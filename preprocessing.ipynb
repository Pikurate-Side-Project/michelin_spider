{
 "cells": [
  {
   "cell_type": "code",
   "execution_count": 7,
   "metadata": {},
   "outputs": [],
   "source": [
    "import pandas as pd\n",
    "import json"
   ]
  },
  {
   "cell_type": "code",
   "execution_count": 8,
   "metadata": {},
   "outputs": [
    {
     "data": {
      "text/html": [
       "<div>\n",
       "<style scoped>\n",
       "    .dataframe tbody tr th:only-of-type {\n",
       "        vertical-align: middle;\n",
       "    }\n",
       "\n",
       "    .dataframe tbody tr th {\n",
       "        vertical-align: top;\n",
       "    }\n",
       "\n",
       "    .dataframe thead th {\n",
       "        text-align: right;\n",
       "    }\n",
       "</style>\n",
       "<table border=\"1\" class=\"dataframe\">\n",
       "  <thead>\n",
       "    <tr style=\"text-align: right;\">\n",
       "      <th></th>\n",
       "      <th>location</th>\n",
       "      <th>title</th>\n",
       "    </tr>\n",
       "  </thead>\n",
       "  <tbody>\n",
       "    <tr>\n",
       "      <th>0</th>\n",
       "      <td>강원도 춘천시 봉의동</td>\n",
       "      <td>협동조합빅샌</td>\n",
       "    </tr>\n",
       "    <tr>\n",
       "      <th>1</th>\n",
       "      <td>강원도 춘천시 봉의동</td>\n",
       "      <td>에티오피아</td>\n",
       "    </tr>\n",
       "    <tr>\n",
       "      <th>2</th>\n",
       "      <td>강원도 춘천시 봉의동</td>\n",
       "      <td>중국문화카페다이빈</td>\n",
       "    </tr>\n",
       "    <tr>\n",
       "      <th>3</th>\n",
       "      <td>강원도 춘천시 요선동</td>\n",
       "      <td>멍텅구리</td>\n",
       "    </tr>\n",
       "    <tr>\n",
       "      <th>4</th>\n",
       "      <td>강원도 춘천시 요선동</td>\n",
       "      <td>카페보이드</td>\n",
       "    </tr>\n",
       "  </tbody>\n",
       "</table>\n",
       "</div>"
      ],
      "text/plain": [
       "      location      title\n",
       "0  강원도 춘천시 봉의동     협동조합빅샌\n",
       "1  강원도 춘천시 봉의동      에티오피아\n",
       "2  강원도 춘천시 봉의동  중국문화카페다이빈\n",
       "3  강원도 춘천시 요선동       멍텅구리\n",
       "4  강원도 춘천시 요선동      카페보이드"
      ]
     },
     "execution_count": 8,
     "metadata": {},
     "output_type": "execute_result"
    }
   ],
   "source": [
    "df = pd.read_json('data/data_강원도.json')\n",
    "df.head()"
   ]
  },
  {
   "cell_type": "code",
   "execution_count": 9,
   "metadata": {},
   "outputs": [],
   "source": [
    "data_num = df.shape[0]\n",
    "chunk_size = 1000\n",
    "chunk_num = data_num // chunk_size\n",
    "\n",
    "for i in range(chunk_num):\n",
    "    chunk_df = df[i * chunk_size: (i + 1) * chunk_size]\n",
    "    chunk_df.to_json(f'./data/gangwon/{i}.json', orient='records', force_ascii=False, indent=2)\n",
    "\n",
    "last_chunk = df[chunk_num * chunk_size:]\n",
    "last_chunk.to_json(f'./data/gangwon/{chunk_num}.json', orient='records', force_ascii=False, indent=2)\n"
   ]
  },
  {
   "cell_type": "code",
   "execution_count": null,
   "metadata": {},
   "outputs": [],
   "source": [
    "chunk_df = df[chunk_num * 1000: (chunk_num + 1) * 1000]"
   ]
  },
  {
   "cell_type": "code",
   "execution_count": null,
   "metadata": {},
   "outputs": [],
   "source": [
    "[row['location'] in detail_location for _, row in df.iterrows()]"
   ]
  },
  {
   "cell_type": "code",
   "execution_count": 34,
   "metadata": {},
   "outputs": [],
   "source": [
    "filtered_df = df[l]\n",
    "filtered_df.to_json('data.json', orient='records', force_ascii=False, indent=2)"
   ]
  },
  {
   "cell_type": "code",
   "execution_count": 41,
   "metadata": {},
   "outputs": [],
   "source": [
    "province = list(set([loc.split()[0] for loc in unique_location]))"
   ]
  },
  {
   "cell_type": "code",
   "execution_count": 42,
   "metadata": {},
   "outputs": [
    {
     "data": {
      "text/plain": [
       "['충청북도',\n",
       " '인천광역시',\n",
       " '대전광역시',\n",
       " '광주광역시',\n",
       " '대구광역시',\n",
       " '울산광역시',\n",
       " '전라북도',\n",
       " '경기도',\n",
       " '세종특별자치시',\n",
       " '강원도',\n",
       " '서울특별시',\n",
       " '제주특별자치도',\n",
       " '전라남도',\n",
       " '충청남도',\n",
       " '경상남도',\n",
       " '부산광역시',\n",
       " '경상북도']"
      ]
     },
     "execution_count": 42,
     "metadata": {},
     "output_type": "execute_result"
    }
   ],
   "source": [
    "province"
   ]
  },
  {
   "cell_type": "code",
   "execution_count": 45,
   "metadata": {},
   "outputs": [
    {
     "name": "stdout",
     "output_type": "stream",
     "text": [
      "rows: 282027\n",
      "rows: 275524\n",
      "rows: 261233\n",
      "rows: 248711\n",
      "rows: 238212\n",
      "rows: 214884\n",
      "rows: 207501\n",
      "rows: 201748\n",
      "rows: 149959\n",
      "rows: 147086\n",
      "rows: 133803\n",
      "rows: 63816\n",
      "rows: 58541\n",
      "rows: 52514\n",
      "rows: 45260\n",
      "rows: 33359\n",
      "rows: 13149\n",
      "rows: 0\n",
      "rows: 0\n"
     ]
    }
   ],
   "source": [
    "rows = filtered_df.shape[0]\n",
    "print(\"rows:\", rows)\n",
    "\n",
    "for loc in province:\n",
    "    filtered_row = [loc in row['location']  for _, row in filtered_df.iterrows()]\n",
    "    snippet = filtered_df[filtered_row]\n",
    "    # snippet.to_json(f'data/data_{loc}.json', orient='records', force_ascii=False, indent=2)\n",
    "    rows -= snippet.shape[0]\n",
    "    print(\"rows:\", rows)\n",
    "\n",
    "print(\"rows:\", rows)"
   ]
  },
  {
   "cell_type": "code",
   "execution_count": null,
   "metadata": {},
   "outputs": [],
   "source": []
  }
 ],
 "metadata": {
  "interpreter": {
   "hash": "cfca975cf1fa3e3bc71cbf1f0073d5591dc1f33d43bddab1db8a4ed6cabe1853"
  },
  "kernelspec": {
   "display_name": "Python 3.7.11 64-bit ('crawler': conda)",
   "language": "python",
   "name": "python3"
  },
  "language_info": {
   "codemirror_mode": {
    "name": "ipython",
    "version": 3
   },
   "file_extension": ".py",
   "mimetype": "text/x-python",
   "name": "python",
   "nbconvert_exporter": "python",
   "pygments_lexer": "ipython3",
   "version": "3.7.11"
  },
  "orig_nbformat": 4
 },
 "nbformat": 4,
 "nbformat_minor": 2
}
